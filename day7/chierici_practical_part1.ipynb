{
 "cells": [
  {
   "cell_type": "markdown",
   "metadata": {
    "colab_type": "text",
    "id": "TJfNUgelLKKI"
   },
   "source": [
    "# <center>Machine learning from scratch - Part I</center>\n",
    "## <center>EMBO practical course on population genomics 2019 @ Procida, Italy</center>\n",
    "### <center>Marco Chierici & Margherita Francescatto</center>\n",
    "#### <center>_FBK/MPBA_</center>"
   ]
  },
  {
   "cell_type": "markdown",
   "metadata": {
    "colab_type": "text",
    "id": "fuVtNnbq1o3z"
   },
   "source": [
    "In this handout we will go through basic concepts of machine learning using scikit-learn and the SEQC neuroblastoma data set [Zhang et al, _Genome Biology_, 2015]."
   ]
  },
  {
   "cell_type": "code",
   "execution_count": 1,
   "metadata": {},
   "outputs": [
    {
     "name": "stdout",
     "output_type": "stream",
     "text": [
      "Help on function read_csv in module pandas.io.parsers:\n",
      "\n",
      "read_csv(filepath_or_buffer, sep=',', delimiter=None, header='infer', names=None, index_col=None, usecols=None, squeeze=False, prefix=None, mangle_dupe_cols=True, dtype=None, engine=None, converters=None, true_values=None, false_values=None, skipinitialspace=False, skiprows=None, nrows=None, na_values=None, keep_default_na=True, na_filter=True, verbose=False, skip_blank_lines=True, parse_dates=False, infer_datetime_format=False, keep_date_col=False, date_parser=None, dayfirst=False, iterator=False, chunksize=None, compression='infer', thousands=None, decimal=b'.', lineterminator=None, quotechar='\"', quoting=0, escapechar=None, comment=None, encoding=None, dialect=None, tupleize_cols=None, error_bad_lines=True, warn_bad_lines=True, skipfooter=0, doublequote=True, delim_whitespace=False, low_memory=True, memory_map=False, float_precision=None)\n",
      "    Read CSV (comma-separated) file into DataFrame\n",
      "    \n",
      "    Also supports optionally iterating or breaking of the file\n",
      "    into chunks.\n",
      "    \n",
      "    Additional help can be found in the `online docs for IO Tools\n",
      "    <http://pandas.pydata.org/pandas-docs/stable/io.html>`_.\n",
      "    \n",
      "    Parameters\n",
      "    ----------\n",
      "    filepath_or_buffer : str, pathlib.Path, py._path.local.LocalPath or any \\\n",
      "    object with a read() method (such as a file handle or StringIO)\n",
      "        The string could be a URL. Valid URL schemes include http, ftp, s3, and\n",
      "        file. For file URLs, a host is expected. For instance, a local file could\n",
      "        be file://localhost/path/to/table.csv\n",
      "    sep : str, default ','\n",
      "        Delimiter to use. If sep is None, the C engine cannot automatically detect\n",
      "        the separator, but the Python parsing engine can, meaning the latter will\n",
      "        be used and automatically detect the separator by Python's builtin sniffer\n",
      "        tool, ``csv.Sniffer``. In addition, separators longer than 1 character and\n",
      "        different from ``'\\s+'`` will be interpreted as regular expressions and\n",
      "        will also force the use of the Python parsing engine. Note that regex\n",
      "        delimiters are prone to ignoring quoted data. Regex example: ``'\\r\\t'``\n",
      "    delimiter : str, default ``None``\n",
      "        Alternative argument name for sep.\n",
      "    delim_whitespace : boolean, default False\n",
      "        Specifies whether or not whitespace (e.g. ``' '`` or ``'\\t'``) will be\n",
      "        used as the sep. Equivalent to setting ``sep='\\s+'``. If this option\n",
      "        is set to True, nothing should be passed in for the ``delimiter``\n",
      "        parameter.\n",
      "    \n",
      "        .. versionadded:: 0.18.1 support for the Python parser.\n",
      "    \n",
      "    header : int or list of ints, default 'infer'\n",
      "        Row number(s) to use as the column names, and the start of the\n",
      "        data.  Default behavior is to infer the column names: if no names\n",
      "        are passed the behavior is identical to ``header=0`` and column\n",
      "        names are inferred from the first line of the file, if column\n",
      "        names are passed explicitly then the behavior is identical to\n",
      "        ``header=None``. Explicitly pass ``header=0`` to be able to\n",
      "        replace existing names. The header can be a list of integers that\n",
      "        specify row locations for a multi-index on the columns\n",
      "        e.g. [0,1,3]. Intervening rows that are not specified will be\n",
      "        skipped (e.g. 2 in this example is skipped). Note that this\n",
      "        parameter ignores commented lines and empty lines if\n",
      "        ``skip_blank_lines=True``, so header=0 denotes the first line of\n",
      "        data rather than the first line of the file.\n",
      "    names : array-like, default None\n",
      "        List of column names to use. If file contains no header row, then you\n",
      "        should explicitly pass header=None. Duplicates in this list will cause\n",
      "        a ``UserWarning`` to be issued.\n",
      "    index_col : int or sequence or False, default None\n",
      "        Column to use as the row labels of the DataFrame. If a sequence is given, a\n",
      "        MultiIndex is used. If you have a malformed file with delimiters at the end\n",
      "        of each line, you might consider index_col=False to force pandas to _not_\n",
      "        use the first column as the index (row names)\n",
      "    usecols : list-like or callable, default None\n",
      "        Return a subset of the columns. If list-like, all elements must either\n",
      "        be positional (i.e. integer indices into the document columns) or strings\n",
      "        that correspond to column names provided either by the user in `names` or\n",
      "        inferred from the document header row(s). For example, a valid list-like\n",
      "        `usecols` parameter would be [0, 1, 2] or ['foo', 'bar', 'baz']. Element\n",
      "        order is ignored, so ``usecols=[0, 1]`` is the same as ``[1, 0]``.\n",
      "        To instantiate a DataFrame from ``data`` with element order preserved use\n",
      "        ``pd.read_csv(data, usecols=['foo', 'bar'])[['foo', 'bar']]`` for columns\n",
      "        in ``['foo', 'bar']`` order or\n",
      "        ``pd.read_csv(data, usecols=['foo', 'bar'])[['bar', 'foo']]``\n",
      "        for ``['bar', 'foo']`` order.\n",
      "    \n",
      "        If callable, the callable function will be evaluated against the column\n",
      "        names, returning names where the callable function evaluates to True. An\n",
      "        example of a valid callable argument would be ``lambda x: x.upper() in\n",
      "        ['AAA', 'BBB', 'DDD']``. Using this parameter results in much faster\n",
      "        parsing time and lower memory usage.\n",
      "    squeeze : boolean, default False\n",
      "        If the parsed data only contains one column then return a Series\n",
      "    prefix : str, default None\n",
      "        Prefix to add to column numbers when no header, e.g. 'X' for X0, X1, ...\n",
      "    mangle_dupe_cols : boolean, default True\n",
      "        Duplicate columns will be specified as 'X', 'X.1', ...'X.N', rather than\n",
      "        'X'...'X'. Passing in False will cause data to be overwritten if there\n",
      "        are duplicate names in the columns.\n",
      "    dtype : Type name or dict of column -> type, default None\n",
      "        Data type for data or columns. E.g. {'a': np.float64, 'b': np.int32}\n",
      "        Use `str` or `object` together with suitable `na_values` settings\n",
      "        to preserve and not interpret dtype.\n",
      "        If converters are specified, they will be applied INSTEAD\n",
      "        of dtype conversion.\n",
      "    engine : {'c', 'python'}, optional\n",
      "        Parser engine to use. The C engine is faster while the python engine is\n",
      "        currently more feature-complete.\n",
      "    converters : dict, default None\n",
      "        Dict of functions for converting values in certain columns. Keys can either\n",
      "        be integers or column labels\n",
      "    true_values : list, default None\n",
      "        Values to consider as True\n",
      "    false_values : list, default None\n",
      "        Values to consider as False\n",
      "    skipinitialspace : boolean, default False\n",
      "        Skip spaces after delimiter.\n",
      "    skiprows : list-like or integer or callable, default None\n",
      "        Line numbers to skip (0-indexed) or number of lines to skip (int)\n",
      "        at the start of the file.\n",
      "    \n",
      "        If callable, the callable function will be evaluated against the row\n",
      "        indices, returning True if the row should be skipped and False otherwise.\n",
      "        An example of a valid callable argument would be ``lambda x: x in [0, 2]``.\n",
      "    skipfooter : int, default 0\n",
      "        Number of lines at bottom of file to skip (Unsupported with engine='c')\n",
      "    nrows : int, default None\n",
      "        Number of rows of file to read. Useful for reading pieces of large files\n",
      "    na_values : scalar, str, list-like, or dict, default None\n",
      "        Additional strings to recognize as NA/NaN. If dict passed, specific\n",
      "        per-column NA values.  By default the following values are interpreted as\n",
      "        NaN: '', '#N/A', '#N/A N/A', '#NA', '-1.#IND', '-1.#QNAN', '-NaN', '-nan',\n",
      "        '1.#IND', '1.#QNAN', 'N/A', 'NA', 'NULL', 'NaN', 'n/a', 'nan',\n",
      "        'null'.\n",
      "    keep_default_na : bool, default True\n",
      "        Whether or not to include the default NaN values when parsing the data.\n",
      "        Depending on whether `na_values` is passed in, the behavior is as follows:\n",
      "    \n",
      "        * If `keep_default_na` is True, and `na_values` are specified, `na_values`\n",
      "          is appended to the default NaN values used for parsing.\n",
      "        * If `keep_default_na` is True, and `na_values` are not specified, only\n",
      "          the default NaN values are used for parsing.\n",
      "        * If `keep_default_na` is False, and `na_values` are specified, only\n",
      "          the NaN values specified `na_values` are used for parsing.\n",
      "        * If `keep_default_na` is False, and `na_values` are not specified, no\n",
      "          strings will be parsed as NaN.\n",
      "    \n",
      "        Note that if `na_filter` is passed in as False, the `keep_default_na` and\n",
      "        `na_values` parameters will be ignored.\n",
      "    na_filter : boolean, default True\n",
      "        Detect missing value markers (empty strings and the value of na_values). In\n",
      "        data without any NAs, passing na_filter=False can improve the performance\n",
      "        of reading a large file\n",
      "    verbose : boolean, default False\n",
      "        Indicate number of NA values placed in non-numeric columns\n",
      "    skip_blank_lines : boolean, default True\n",
      "        If True, skip over blank lines rather than interpreting as NaN values\n",
      "    parse_dates : boolean or list of ints or names or list of lists or dict, default False\n",
      "    \n",
      "        * boolean. If True -> try parsing the index.\n",
      "        * list of ints or names. e.g. If [1, 2, 3] -> try parsing columns 1, 2, 3\n",
      "          each as a separate date column.\n",
      "        * list of lists. e.g.  If [[1, 3]] -> combine columns 1 and 3 and parse as\n",
      "          a single date column.\n",
      "        * dict, e.g. {'foo' : [1, 3]} -> parse columns 1, 3 as date and call result\n",
      "          'foo'\n",
      "    \n",
      "        If a column or index contains an unparseable date, the entire column or\n",
      "        index will be returned unaltered as an object data type. For non-standard\n",
      "        datetime parsing, use ``pd.to_datetime`` after ``pd.read_csv``\n",
      "    \n",
      "        Note: A fast-path exists for iso8601-formatted dates.\n",
      "    infer_datetime_format : boolean, default False\n",
      "        If True and `parse_dates` is enabled, pandas will attempt to infer the\n",
      "        format of the datetime strings in the columns, and if it can be inferred,\n",
      "        switch to a faster method of parsing them. In some cases this can increase\n",
      "        the parsing speed by 5-10x.\n",
      "    keep_date_col : boolean, default False\n",
      "        If True and `parse_dates` specifies combining multiple columns then\n",
      "        keep the original columns.\n",
      "    date_parser : function, default None\n",
      "        Function to use for converting a sequence of string columns to an array of\n",
      "        datetime instances. The default uses ``dateutil.parser.parser`` to do the\n",
      "        conversion. Pandas will try to call `date_parser` in three different ways,\n",
      "        advancing to the next if an exception occurs: 1) Pass one or more arrays\n",
      "        (as defined by `parse_dates`) as arguments; 2) concatenate (row-wise) the\n",
      "        string values from the columns defined by `parse_dates` into a single array\n",
      "        and pass that; and 3) call `date_parser` once for each row using one or\n",
      "        more strings (corresponding to the columns defined by `parse_dates`) as\n",
      "        arguments.\n",
      "    dayfirst : boolean, default False\n",
      "        DD/MM format dates, international and European format\n",
      "    iterator : boolean, default False\n",
      "        Return TextFileReader object for iteration or getting chunks with\n",
      "        ``get_chunk()``.\n",
      "    chunksize : int, default None\n",
      "        Return TextFileReader object for iteration.\n",
      "        See the `IO Tools docs\n",
      "        <http://pandas.pydata.org/pandas-docs/stable/io.html#io-chunking>`_\n",
      "        for more information on ``iterator`` and ``chunksize``.\n",
      "    compression : {'infer', 'gzip', 'bz2', 'zip', 'xz', None}, default 'infer'\n",
      "        For on-the-fly decompression of on-disk data. If 'infer' and\n",
      "        `filepath_or_buffer` is path-like, then detect compression from the\n",
      "        following extensions: '.gz', '.bz2', '.zip', or '.xz' (otherwise no\n",
      "        decompression). If using 'zip', the ZIP file must contain only one data\n",
      "        file to be read in. Set to None for no decompression.\n",
      "    \n",
      "        .. versionadded:: 0.18.1 support for 'zip' and 'xz' compression.\n",
      "    \n",
      "    thousands : str, default None\n",
      "        Thousands separator\n",
      "    decimal : str, default '.'\n",
      "        Character to recognize as decimal point (e.g. use ',' for European data).\n",
      "    float_precision : string, default None\n",
      "        Specifies which converter the C engine should use for floating-point\n",
      "        values. The options are `None` for the ordinary converter,\n",
      "        `high` for the high-precision converter, and `round_trip` for the\n",
      "        round-trip converter.\n",
      "    lineterminator : str (length 1), default None\n",
      "        Character to break file into lines. Only valid with C parser.\n",
      "    quotechar : str (length 1), optional\n",
      "        The character used to denote the start and end of a quoted item. Quoted\n",
      "        items can include the delimiter and it will be ignored.\n",
      "    quoting : int or csv.QUOTE_* instance, default 0\n",
      "        Control field quoting behavior per ``csv.QUOTE_*`` constants. Use one of\n",
      "        QUOTE_MINIMAL (0), QUOTE_ALL (1), QUOTE_NONNUMERIC (2) or QUOTE_NONE (3).\n",
      "    doublequote : boolean, default ``True``\n",
      "       When quotechar is specified and quoting is not ``QUOTE_NONE``, indicate\n",
      "       whether or not to interpret two consecutive quotechar elements INSIDE a\n",
      "       field as a single ``quotechar`` element.\n",
      "    escapechar : str (length 1), default None\n",
      "        One-character string used to escape delimiter when quoting is QUOTE_NONE.\n",
      "    comment : str, default None\n",
      "        Indicates remainder of line should not be parsed. If found at the beginning\n",
      "        of a line, the line will be ignored altogether. This parameter must be a\n",
      "        single character. Like empty lines (as long as ``skip_blank_lines=True``),\n",
      "        fully commented lines are ignored by the parameter `header` but not by\n",
      "        `skiprows`. For example, if ``comment='#'``, parsing\n",
      "        ``#empty\\na,b,c\\n1,2,3`` with ``header=0`` will result in 'a,b,c' being\n",
      "        treated as the header.\n",
      "    encoding : str, default None\n",
      "        Encoding to use for UTF when reading/writing (ex. 'utf-8'). `List of Python\n",
      "        standard encodings\n",
      "        <https://docs.python.org/3/library/codecs.html#standard-encodings>`_\n",
      "    dialect : str or csv.Dialect instance, default None\n",
      "        If provided, this parameter will override values (default or not) for the\n",
      "        following parameters: `delimiter`, `doublequote`, `escapechar`,\n",
      "        `skipinitialspace`, `quotechar`, and `quoting`. If it is necessary to\n",
      "        override values, a ParserWarning will be issued. See csv.Dialect\n",
      "        documentation for more details.\n",
      "    tupleize_cols : boolean, default False\n",
      "        .. deprecated:: 0.21.0\n",
      "           This argument will be removed and will always convert to MultiIndex\n",
      "    \n",
      "        Leave a list of tuples on columns as is (default is to convert to\n",
      "        a MultiIndex on the columns)\n",
      "    error_bad_lines : boolean, default True\n",
      "        Lines with too many fields (e.g. a csv line with too many commas) will by\n",
      "        default cause an exception to be raised, and no DataFrame will be returned.\n",
      "        If False, then these \"bad lines\" will dropped from the DataFrame that is\n",
      "        returned.\n",
      "    warn_bad_lines : boolean, default True\n",
      "        If error_bad_lines is False, and warn_bad_lines is True, a warning for each\n",
      "        \"bad line\" will be output.\n",
      "    low_memory : boolean, default True\n",
      "        Internally process the file in chunks, resulting in lower memory use\n",
      "        while parsing, but possibly mixed type inference.  To ensure no mixed\n",
      "        types either set False, or specify the type with the `dtype` parameter.\n",
      "        Note that the entire file is read into a single DataFrame regardless,\n",
      "        use the `chunksize` or `iterator` parameter to return the data in chunks.\n",
      "        (Only valid with C parser)\n",
      "    memory_map : boolean, default False\n",
      "        If a filepath is provided for `filepath_or_buffer`, map the file object\n",
      "        directly onto memory and access the data directly from there. Using this\n",
      "        option can improve performance because there is no longer any I/O overhead.\n",
      "    \n",
      "    Returns\n",
      "    -------\n",
      "    result : DataFrame or TextParser\n",
      "\n"
     ]
    },
    {
     "name": "stdout",
     "output_type": "stream",
     "text": [
      "[0.08194369 0.0433671 ]\n"
     ]
    },
    {
     "data": {
      "text/plain": [
       "<Figure size 640x480 with 1 Axes>"
      ]
     },
     "metadata": {},
     "output_type": "display_data"
    },
    {
     "data": {
      "text/plain": [
       "<Figure size 640x480 with 1 Axes>"
      ]
     },
     "metadata": {},
     "output_type": "display_data"
    },
    {
     "name": "stdout",
     "output_type": "stream",
     "text": [
      "0.8602941176470589\n",
      "0.8602941176470589\n",
      "1.0\n",
      "              precision    recall  f1-score   support\n",
      "\n",
      "           0       1.00      0.59      0.74        46\n",
      "           1       0.83      1.00      0.90        90\n",
      "\n",
      "   micro avg       0.86      0.86      0.86       136\n",
      "   macro avg       0.91      0.79      0.82       136\n",
      "weighted avg       0.88      0.86      0.85       136\n",
      "\n",
      "0.6961630553262051\n"
     ]
    }
   ],
   "source": [
    "exec(open(\"chierici_practical_part1.py\").read())"
   ]
  },
  {
   "cell_type": "markdown",
   "metadata": {
    "colab_type": "text",
    "id": "n012d52Z1x2_"
   },
   "source": [
    "In particular, we will focus on **a subset of 272 samples (136 training, 136 test)**, aiming at predicting an **extreme disease outcome** (favorable vs unfavorable samples: see main paper)."
   ]
  },
  {
   "cell_type": "markdown",
   "metadata": {
    "colab_type": "text",
    "id": "nhboH88jk3Wa"
   },
   "source": [
    "The data was preprocessed a bit to facilitate the progress of the tutorial."
   ]
  },
  {
   "cell_type": "markdown",
   "metadata": {
    "colab_type": "text",
    "id": "NXauQAQK16-V"
   },
   "source": [
    "Let's start by loading a few modules that we'll be using later:"
   ]
  },
  {
   "cell_type": "code",
   "execution_count": 2,
   "metadata": {
    "colab": {},
    "colab_type": "code",
    "id": "ww5yKJJpk3Wc"
   },
   "outputs": [],
   "source": [
    "import numpy as np\n",
    "import pylab as plt ## for plotting\n",
    "import pandas as pd ## for reading text files and manipulating data frames\n",
    "from sklearn import neighbors ## kNN classifier\n",
    "%matplotlib inline\n",
    "np.random.seed(42) ## set random seed just in case"
   ]
  },
  {
   "cell_type": "markdown",
   "metadata": {
    "colab_type": "text",
    "id": "X1JAqMhok3Wf"
   },
   "source": [
    "Define files to read:"
   ]
  },
  {
   "cell_type": "code",
   "execution_count": 3,
   "metadata": {
    "colab": {},
    "colab_type": "code",
    "id": "VjZyyr-EoCQw"
   },
   "outputs": [],
   "source": [
    "##  for convenience, define the data directory as a variable\n",
    "DATA_DIR = \"NB_data/\" #\"/data/marco/\" "
   ]
  },
  {
   "cell_type": "code",
   "execution_count": 4,
   "metadata": {
    "colab": {},
    "colab_type": "code",
    "id": "z35eGqzck3Wg"
   },
   "outputs": [],
   "source": [
    "DATA_TR = DATA_DIR + \"MAV-G_272_tr.txt\"\n",
    "DATA_TS = DATA_DIR + \"MAV-G_272_ts.txt\"\n",
    "LABS_TR = DATA_DIR + \"labels_tr.txt\"\n",
    "LABS_TS = DATA_DIR + \"labels_ts.txt\""
   ]
  },
  {
   "cell_type": "markdown",
   "metadata": {
    "colab_type": "text",
    "id": "kXtrmBhLobSI"
   },
   "source": [
    "Note: there are more sophisticated ways to work with files and paths in Python. Here is one, in case you are curious:"
   ]
  },
  {
   "cell_type": "code",
   "execution_count": 5,
   "metadata": {
    "colab": {},
    "colab_type": "code",
    "id": "z0cLlYgBooVh"
   },
   "outputs": [],
   "source": [
    "## alternative way to define files & paths\n",
    "## this should be preferred, since it is OS-independent\n",
    "import os\n",
    "DATA_TR = os.path.join(DATA_DIR, \"MAV-G_272_tr.txt\")\n",
    "DATA_TS = os.path.join(DATA_DIR, \"MAV-G_272_ts.txt\")\n",
    "LABS_TR = os.path.join(DATA_DIR, \"labels_tr.txt\")\n",
    "LABS_TS = os.path.join(DATA_DIR, \"labels_ts.txt\")"
   ]
  },
  {
   "cell_type": "markdown",
   "metadata": {
    "colab_type": "text",
    "id": "QywnF5Rek3Wj"
   },
   "source": [
    "Read the files in as _pandas dataframes_ (they are conceptually like R data frames):"
   ]
  },
  {
   "cell_type": "code",
   "execution_count": 6,
   "metadata": {
    "colab": {
     "base_uri": "https://localhost:8080/",
     "height": 864
    },
    "colab_type": "code",
    "executionInfo": {
     "elapsed": 1345,
     "status": "error",
     "timestamp": 1554388310330,
     "user": {
      "displayName": "Marco Chierici",
      "photoUrl": "https://lh6.googleusercontent.com/-1LjDBMGAnW8/AAAAAAAAAAI/AAAAAAAACB0/ScmrJqjZC-4/s64/photo.jpg",
      "userId": "06871654247545486268"
     },
     "user_tz": -120
    },
    "id": "cYnTRFVyk3Wk",
    "outputId": "a91effd6-a06f-42b9-8911-0ee006aaa08a"
   },
   "outputs": [],
   "source": [
    "data_tr = pd.read_csv(DATA_TR, sep = \"\\t\")\n",
    "data_ts = pd.read_csv(DATA_TS, sep = \"\\t\")"
   ]
  },
  {
   "cell_type": "markdown",
   "metadata": {
    "colab_type": "text",
    "id": "THEk0UfNqZqZ"
   },
   "source": [
    "The function `read_csv` has a lot more input arguments to deal with different situations.\n",
    "\n",
    "If you want to know more about this or any other Python function, use the `help(function_name)` command:"
   ]
  },
  {
   "cell_type": "code",
   "execution_count": null,
   "metadata": {
    "colab": {
     "base_uri": "https://localhost:8080/",
     "height": 4712
    },
    "colab_type": "code",
    "executionInfo": {
     "elapsed": 2047,
     "status": "ok",
     "timestamp": 1554369595681,
     "user": {
      "displayName": "Marco Chierici",
      "photoUrl": "https://lh6.googleusercontent.com/-1LjDBMGAnW8/AAAAAAAAAAI/AAAAAAAACB0/ScmrJqjZC-4/s64/photo.jpg",
      "userId": "06871654247545486268"
     },
     "user_tz": -120
    },
    "id": "CoWDeDBl2wHQ",
    "outputId": "5a41d67f-63d7-4365-c170-ee04ef5727c1"
   },
   "outputs": [],
   "source": [
    "help(pd.read_csv)"
   ]
  },
  {
   "cell_type": "markdown",
   "metadata": {
    "colab_type": "text",
    "id": "UnTyIsHRk3Wm"
   },
   "source": [
    "Give a look at what we have here, start with getting the dimensions of what we just uploaded:"
   ]
  },
  {
   "cell_type": "code",
   "execution_count": 8,
   "metadata": {
    "colab": {},
    "colab_type": "code",
    "id": "2iltS1Q-k3Wn",
    "outputId": "ea81462d-8a49-406b-c933-182c49379053"
   },
   "outputs": [
    {
     "data": {
      "text/plain": [
       "(136, 52230)"
      ]
     },
     "execution_count": 8,
     "metadata": {},
     "output_type": "execute_result"
    }
   ],
   "source": [
    "data_tr.shape"
   ]
  },
  {
   "cell_type": "markdown",
   "metadata": {
    "colab_type": "text",
    "id": "_kRnmCcI2Wo4"
   },
   "source": [
    "What's inside?\n",
    "\n",
    "A peek at the first rows reveals that the first column (the dataframe index) contains the sample IDs, and the remaining columns are genes:"
   ]
  },
  {
   "cell_type": "code",
   "execution_count": 9,
   "metadata": {
    "colab": {},
    "colab_type": "code",
    "id": "TVfPwU6-k3Wt",
    "outputId": "884dd460-6c53-4bf4-9c37-f7c7299b37a2"
   },
   "outputs": [
    {
     "data": {
      "text/html": [
       "<div>\n",
       "<style scoped>\n",
       "    .dataframe tbody tr th:only-of-type {\n",
       "        vertical-align: middle;\n",
       "    }\n",
       "\n",
       "    .dataframe tbody tr th {\n",
       "        vertical-align: top;\n",
       "    }\n",
       "\n",
       "    .dataframe thead th {\n",
       "        text-align: right;\n",
       "    }\n",
       "</style>\n",
       "<table border=\"1\" class=\"dataframe\">\n",
       "  <thead>\n",
       "    <tr style=\"text-align: right;\">\n",
       "      <th></th>\n",
       "      <th>sampleID</th>\n",
       "      <th>ALB.Gene_AceView</th>\n",
       "      <th>CD24L4.1.Gene_AceView</th>\n",
       "      <th>RPS11.Gene_RefSeq</th>\n",
       "      <th>RPS18.Gene_AceView</th>\n",
       "      <th>C5orf13.Gene_AceView</th>\n",
       "      <th>CCT2.Gene_AceView</th>\n",
       "      <th>COL1A1.Gene_AceView</th>\n",
       "      <th>DDX1.Gene_AceView</th>\n",
       "      <th>EEF1A1.Gene_AceView</th>\n",
       "      <th>...</th>\n",
       "      <th>zawskaw.Gene_AceView</th>\n",
       "      <th>zeedor.Gene_AceView</th>\n",
       "      <th>zergor.Gene_AceView</th>\n",
       "      <th>zorsa.Gene_AceView</th>\n",
       "      <th>zoychabu.Gene_AceView</th>\n",
       "      <th>zoysteeby.Gene_AceView</th>\n",
       "      <th>zudee.Gene_AceView</th>\n",
       "      <th>zureyby.Gene_AceView</th>\n",
       "      <th>zuswoybu.Gene_AceView</th>\n",
       "      <th>zyjee.Gene_AceView</th>\n",
       "    </tr>\n",
       "  </thead>\n",
       "  <tbody>\n",
       "    <tr>\n",
       "      <th>0</th>\n",
       "      <td>SEQC_NB001</td>\n",
       "      <td>9.29</td>\n",
       "      <td>18.82</td>\n",
       "      <td>21.17</td>\n",
       "      <td>20.90</td>\n",
       "      <td>20.02</td>\n",
       "      <td>16.31</td>\n",
       "      <td>18.60</td>\n",
       "      <td>15.73</td>\n",
       "      <td>21.71</td>\n",
       "      <td>...</td>\n",
       "      <td>0.0</td>\n",
       "      <td>0.00</td>\n",
       "      <td>0.0</td>\n",
       "      <td>0.00</td>\n",
       "      <td>0.0</td>\n",
       "      <td>0.0</td>\n",
       "      <td>0.00</td>\n",
       "      <td>0.0</td>\n",
       "      <td>0.0</td>\n",
       "      <td>0.0</td>\n",
       "    </tr>\n",
       "    <tr>\n",
       "      <th>1</th>\n",
       "      <td>SEQC_NB003</td>\n",
       "      <td>9.25</td>\n",
       "      <td>20.25</td>\n",
       "      <td>22.44</td>\n",
       "      <td>22.00</td>\n",
       "      <td>21.05</td>\n",
       "      <td>17.06</td>\n",
       "      <td>19.39</td>\n",
       "      <td>22.84</td>\n",
       "      <td>22.72</td>\n",
       "      <td>...</td>\n",
       "      <td>0.0</td>\n",
       "      <td>5.54</td>\n",
       "      <td>0.0</td>\n",
       "      <td>3.39</td>\n",
       "      <td>0.0</td>\n",
       "      <td>0.0</td>\n",
       "      <td>5.45</td>\n",
       "      <td>0.0</td>\n",
       "      <td>0.0</td>\n",
       "      <td>0.0</td>\n",
       "    </tr>\n",
       "    <tr>\n",
       "      <th>2</th>\n",
       "      <td>SEQC_NB005</td>\n",
       "      <td>8.99</td>\n",
       "      <td>20.09</td>\n",
       "      <td>22.09</td>\n",
       "      <td>21.71</td>\n",
       "      <td>21.65</td>\n",
       "      <td>16.85</td>\n",
       "      <td>23.02</td>\n",
       "      <td>15.79</td>\n",
       "      <td>22.24</td>\n",
       "      <td>...</td>\n",
       "      <td>0.0</td>\n",
       "      <td>0.00</td>\n",
       "      <td>0.0</td>\n",
       "      <td>3.75</td>\n",
       "      <td>0.0</td>\n",
       "      <td>0.0</td>\n",
       "      <td>0.00</td>\n",
       "      <td>0.0</td>\n",
       "      <td>0.0</td>\n",
       "      <td>0.0</td>\n",
       "    </tr>\n",
       "    <tr>\n",
       "      <th>3</th>\n",
       "      <td>SEQC_NB011</td>\n",
       "      <td>7.32</td>\n",
       "      <td>19.82</td>\n",
       "      <td>20.52</td>\n",
       "      <td>20.90</td>\n",
       "      <td>21.58</td>\n",
       "      <td>16.49</td>\n",
       "      <td>18.91</td>\n",
       "      <td>15.45</td>\n",
       "      <td>22.06</td>\n",
       "      <td>...</td>\n",
       "      <td>0.0</td>\n",
       "      <td>0.00</td>\n",
       "      <td>0.0</td>\n",
       "      <td>0.00</td>\n",
       "      <td>0.0</td>\n",
       "      <td>0.0</td>\n",
       "      <td>0.00</td>\n",
       "      <td>0.0</td>\n",
       "      <td>0.0</td>\n",
       "      <td>0.0</td>\n",
       "    </tr>\n",
       "    <tr>\n",
       "      <th>4</th>\n",
       "      <td>SEQC_NB013</td>\n",
       "      <td>10.56</td>\n",
       "      <td>21.19</td>\n",
       "      <td>20.69</td>\n",
       "      <td>21.29</td>\n",
       "      <td>20.28</td>\n",
       "      <td>16.22</td>\n",
       "      <td>17.15</td>\n",
       "      <td>16.01</td>\n",
       "      <td>21.84</td>\n",
       "      <td>...</td>\n",
       "      <td>0.0</td>\n",
       "      <td>0.00</td>\n",
       "      <td>0.0</td>\n",
       "      <td>5.20</td>\n",
       "      <td>0.0</td>\n",
       "      <td>0.0</td>\n",
       "      <td>0.00</td>\n",
       "      <td>0.0</td>\n",
       "      <td>0.0</td>\n",
       "      <td>0.0</td>\n",
       "    </tr>\n",
       "  </tbody>\n",
       "</table>\n",
       "<p>5 rows × 52230 columns</p>\n",
       "</div>"
      ],
      "text/plain": [
       "     sampleID  ALB.Gene_AceView  CD24L4.1.Gene_AceView  RPS11.Gene_RefSeq  \\\n",
       "0  SEQC_NB001              9.29                  18.82              21.17   \n",
       "1  SEQC_NB003              9.25                  20.25              22.44   \n",
       "2  SEQC_NB005              8.99                  20.09              22.09   \n",
       "3  SEQC_NB011              7.32                  19.82              20.52   \n",
       "4  SEQC_NB013             10.56                  21.19              20.69   \n",
       "\n",
       "   RPS18.Gene_AceView  C5orf13.Gene_AceView  CCT2.Gene_AceView  \\\n",
       "0               20.90                 20.02              16.31   \n",
       "1               22.00                 21.05              17.06   \n",
       "2               21.71                 21.65              16.85   \n",
       "3               20.90                 21.58              16.49   \n",
       "4               21.29                 20.28              16.22   \n",
       "\n",
       "   COL1A1.Gene_AceView  DDX1.Gene_AceView  EEF1A1.Gene_AceView  \\\n",
       "0                18.60              15.73                21.71   \n",
       "1                19.39              22.84                22.72   \n",
       "2                23.02              15.79                22.24   \n",
       "3                18.91              15.45                22.06   \n",
       "4                17.15              16.01                21.84   \n",
       "\n",
       "          ...          zawskaw.Gene_AceView  zeedor.Gene_AceView  \\\n",
       "0         ...                           0.0                 0.00   \n",
       "1         ...                           0.0                 5.54   \n",
       "2         ...                           0.0                 0.00   \n",
       "3         ...                           0.0                 0.00   \n",
       "4         ...                           0.0                 0.00   \n",
       "\n",
       "   zergor.Gene_AceView  zorsa.Gene_AceView  zoychabu.Gene_AceView  \\\n",
       "0                  0.0                0.00                    0.0   \n",
       "1                  0.0                3.39                    0.0   \n",
       "2                  0.0                3.75                    0.0   \n",
       "3                  0.0                0.00                    0.0   \n",
       "4                  0.0                5.20                    0.0   \n",
       "\n",
       "   zoysteeby.Gene_AceView  zudee.Gene_AceView  zureyby.Gene_AceView  \\\n",
       "0                     0.0                0.00                   0.0   \n",
       "1                     0.0                5.45                   0.0   \n",
       "2                     0.0                0.00                   0.0   \n",
       "3                     0.0                0.00                   0.0   \n",
       "4                     0.0                0.00                   0.0   \n",
       "\n",
       "   zuswoybu.Gene_AceView  zyjee.Gene_AceView  \n",
       "0                    0.0                 0.0  \n",
       "1                    0.0                 0.0  \n",
       "2                    0.0                 0.0  \n",
       "3                    0.0                 0.0  \n",
       "4                    0.0                 0.0  \n",
       "\n",
       "[5 rows x 52230 columns]"
      ]
     },
     "execution_count": 9,
     "metadata": {},
     "output_type": "execute_result"
    }
   ],
   "source": [
    "data_tr.head()"
   ]
  },
  {
   "cell_type": "markdown",
   "metadata": {
    "colab_type": "text",
    "id": "-Q-p18V3k3Ww"
   },
   "source": [
    "Drop the first column from the train and test expression sets, since it's just the sample IDs (we put them in to be able to check whether samples and labels match, but once we are sure of what we are doing we don't really need them anymore)."
   ]
  },
  {
   "cell_type": "code",
   "execution_count": 10,
   "metadata": {
    "colab": {},
    "colab_type": "code",
    "id": "F1bUOeE4k3Wx"
   },
   "outputs": [],
   "source": [
    "data_tr = data_tr.drop('sampleID', axis=1)\n",
    "data_ts = data_ts.drop('sampleID', axis=1)"
   ]
  },
  {
   "cell_type": "markdown",
   "metadata": {
    "colab_type": "text",
    "id": "WA_GLQAWk3W0"
   },
   "source": [
    "Check what happened"
   ]
  },
  {
   "cell_type": "code",
   "execution_count": 11,
   "metadata": {
    "colab": {},
    "colab_type": "code",
    "id": "QgcQgBVek3W1",
    "outputId": "6cbec2e0-0001-4e03-c040-0bbddd51db5b"
   },
   "outputs": [
    {
     "data": {
      "text/html": [
       "<div>\n",
       "<style scoped>\n",
       "    .dataframe tbody tr th:only-of-type {\n",
       "        vertical-align: middle;\n",
       "    }\n",
       "\n",
       "    .dataframe tbody tr th {\n",
       "        vertical-align: top;\n",
       "    }\n",
       "\n",
       "    .dataframe thead th {\n",
       "        text-align: right;\n",
       "    }\n",
       "</style>\n",
       "<table border=\"1\" class=\"dataframe\">\n",
       "  <thead>\n",
       "    <tr style=\"text-align: right;\">\n",
       "      <th></th>\n",
       "      <th>ALB.Gene_AceView</th>\n",
       "      <th>CD24L4.1.Gene_AceView</th>\n",
       "      <th>RPS11.Gene_RefSeq</th>\n",
       "      <th>RPS18.Gene_AceView</th>\n",
       "      <th>C5orf13.Gene_AceView</th>\n",
       "      <th>CCT2.Gene_AceView</th>\n",
       "      <th>COL1A1.Gene_AceView</th>\n",
       "      <th>DDX1.Gene_AceView</th>\n",
       "      <th>EEF1A1.Gene_AceView</th>\n",
       "      <th>FLT3LG_.Gene_AceView</th>\n",
       "      <th>...</th>\n",
       "      <th>zawskaw.Gene_AceView</th>\n",
       "      <th>zeedor.Gene_AceView</th>\n",
       "      <th>zergor.Gene_AceView</th>\n",
       "      <th>zorsa.Gene_AceView</th>\n",
       "      <th>zoychabu.Gene_AceView</th>\n",
       "      <th>zoysteeby.Gene_AceView</th>\n",
       "      <th>zudee.Gene_AceView</th>\n",
       "      <th>zureyby.Gene_AceView</th>\n",
       "      <th>zuswoybu.Gene_AceView</th>\n",
       "      <th>zyjee.Gene_AceView</th>\n",
       "    </tr>\n",
       "  </thead>\n",
       "  <tbody>\n",
       "    <tr>\n",
       "      <th>0</th>\n",
       "      <td>9.29</td>\n",
       "      <td>18.82</td>\n",
       "      <td>21.17</td>\n",
       "      <td>20.90</td>\n",
       "      <td>20.02</td>\n",
       "      <td>16.31</td>\n",
       "      <td>18.60</td>\n",
       "      <td>15.73</td>\n",
       "      <td>21.71</td>\n",
       "      <td>20.02</td>\n",
       "      <td>...</td>\n",
       "      <td>0.0</td>\n",
       "      <td>0.00</td>\n",
       "      <td>0.0</td>\n",
       "      <td>0.00</td>\n",
       "      <td>0.0</td>\n",
       "      <td>0.0</td>\n",
       "      <td>0.00</td>\n",
       "      <td>0.0</td>\n",
       "      <td>0.0</td>\n",
       "      <td>0.0</td>\n",
       "    </tr>\n",
       "    <tr>\n",
       "      <th>1</th>\n",
       "      <td>9.25</td>\n",
       "      <td>20.25</td>\n",
       "      <td>22.44</td>\n",
       "      <td>22.00</td>\n",
       "      <td>21.05</td>\n",
       "      <td>17.06</td>\n",
       "      <td>19.39</td>\n",
       "      <td>22.84</td>\n",
       "      <td>22.72</td>\n",
       "      <td>21.26</td>\n",
       "      <td>...</td>\n",
       "      <td>0.0</td>\n",
       "      <td>5.54</td>\n",
       "      <td>0.0</td>\n",
       "      <td>3.39</td>\n",
       "      <td>0.0</td>\n",
       "      <td>0.0</td>\n",
       "      <td>5.45</td>\n",
       "      <td>0.0</td>\n",
       "      <td>0.0</td>\n",
       "      <td>0.0</td>\n",
       "    </tr>\n",
       "    <tr>\n",
       "      <th>2</th>\n",
       "      <td>8.99</td>\n",
       "      <td>20.09</td>\n",
       "      <td>22.09</td>\n",
       "      <td>21.71</td>\n",
       "      <td>21.65</td>\n",
       "      <td>16.85</td>\n",
       "      <td>23.02</td>\n",
       "      <td>15.79</td>\n",
       "      <td>22.24</td>\n",
       "      <td>20.75</td>\n",
       "      <td>...</td>\n",
       "      <td>0.0</td>\n",
       "      <td>0.00</td>\n",
       "      <td>0.0</td>\n",
       "      <td>3.75</td>\n",
       "      <td>0.0</td>\n",
       "      <td>0.0</td>\n",
       "      <td>0.00</td>\n",
       "      <td>0.0</td>\n",
       "      <td>0.0</td>\n",
       "      <td>0.0</td>\n",
       "    </tr>\n",
       "    <tr>\n",
       "      <th>3</th>\n",
       "      <td>7.32</td>\n",
       "      <td>19.82</td>\n",
       "      <td>20.52</td>\n",
       "      <td>20.90</td>\n",
       "      <td>21.58</td>\n",
       "      <td>16.49</td>\n",
       "      <td>18.91</td>\n",
       "      <td>15.45</td>\n",
       "      <td>22.06</td>\n",
       "      <td>19.59</td>\n",
       "      <td>...</td>\n",
       "      <td>0.0</td>\n",
       "      <td>0.00</td>\n",
       "      <td>0.0</td>\n",
       "      <td>0.00</td>\n",
       "      <td>0.0</td>\n",
       "      <td>0.0</td>\n",
       "      <td>0.00</td>\n",
       "      <td>0.0</td>\n",
       "      <td>0.0</td>\n",
       "      <td>0.0</td>\n",
       "    </tr>\n",
       "    <tr>\n",
       "      <th>4</th>\n",
       "      <td>10.56</td>\n",
       "      <td>21.19</td>\n",
       "      <td>20.69</td>\n",
       "      <td>21.29</td>\n",
       "      <td>20.28</td>\n",
       "      <td>16.22</td>\n",
       "      <td>17.15</td>\n",
       "      <td>16.01</td>\n",
       "      <td>21.84</td>\n",
       "      <td>19.74</td>\n",
       "      <td>...</td>\n",
       "      <td>0.0</td>\n",
       "      <td>0.00</td>\n",
       "      <td>0.0</td>\n",
       "      <td>5.20</td>\n",
       "      <td>0.0</td>\n",
       "      <td>0.0</td>\n",
       "      <td>0.00</td>\n",
       "      <td>0.0</td>\n",
       "      <td>0.0</td>\n",
       "      <td>0.0</td>\n",
       "    </tr>\n",
       "  </tbody>\n",
       "</table>\n",
       "<p>5 rows × 52229 columns</p>\n",
       "</div>"
      ],
      "text/plain": [
       "   ALB.Gene_AceView  CD24L4.1.Gene_AceView  RPS11.Gene_RefSeq  \\\n",
       "0              9.29                  18.82              21.17   \n",
       "1              9.25                  20.25              22.44   \n",
       "2              8.99                  20.09              22.09   \n",
       "3              7.32                  19.82              20.52   \n",
       "4             10.56                  21.19              20.69   \n",
       "\n",
       "   RPS18.Gene_AceView  C5orf13.Gene_AceView  CCT2.Gene_AceView  \\\n",
       "0               20.90                 20.02              16.31   \n",
       "1               22.00                 21.05              17.06   \n",
       "2               21.71                 21.65              16.85   \n",
       "3               20.90                 21.58              16.49   \n",
       "4               21.29                 20.28              16.22   \n",
       "\n",
       "   COL1A1.Gene_AceView  DDX1.Gene_AceView  EEF1A1.Gene_AceView  \\\n",
       "0                18.60              15.73                21.71   \n",
       "1                19.39              22.84                22.72   \n",
       "2                23.02              15.79                22.24   \n",
       "3                18.91              15.45                22.06   \n",
       "4                17.15              16.01                21.84   \n",
       "\n",
       "   FLT3LG_.Gene_AceView         ...          zawskaw.Gene_AceView  \\\n",
       "0                 20.02         ...                           0.0   \n",
       "1                 21.26         ...                           0.0   \n",
       "2                 20.75         ...                           0.0   \n",
       "3                 19.59         ...                           0.0   \n",
       "4                 19.74         ...                           0.0   \n",
       "\n",
       "   zeedor.Gene_AceView  zergor.Gene_AceView  zorsa.Gene_AceView  \\\n",
       "0                 0.00                  0.0                0.00   \n",
       "1                 5.54                  0.0                3.39   \n",
       "2                 0.00                  0.0                3.75   \n",
       "3                 0.00                  0.0                0.00   \n",
       "4                 0.00                  0.0                5.20   \n",
       "\n",
       "   zoychabu.Gene_AceView  zoysteeby.Gene_AceView  zudee.Gene_AceView  \\\n",
       "0                    0.0                     0.0                0.00   \n",
       "1                    0.0                     0.0                5.45   \n",
       "2                    0.0                     0.0                0.00   \n",
       "3                    0.0                     0.0                0.00   \n",
       "4                    0.0                     0.0                0.00   \n",
       "\n",
       "   zureyby.Gene_AceView  zuswoybu.Gene_AceView  zyjee.Gene_AceView  \n",
       "0                   0.0                    0.0                 0.0  \n",
       "1                   0.0                    0.0                 0.0  \n",
       "2                   0.0                    0.0                 0.0  \n",
       "3                   0.0                    0.0                 0.0  \n",
       "4                   0.0                    0.0                 0.0  \n",
       "\n",
       "[5 rows x 52229 columns]"
      ]
     },
     "execution_count": 11,
     "metadata": {},
     "output_type": "execute_result"
    }
   ],
   "source": [
    "data_tr.head()"
   ]
  },
  {
   "cell_type": "markdown",
   "metadata": {
    "colab_type": "text",
    "id": "NTZp-z-jk3W4"
   },
   "source": [
    "Read in the files containing label information and check how they look like."
   ]
  },
  {
   "cell_type": "code",
   "execution_count": 12,
   "metadata": {
    "colab": {},
    "colab_type": "code",
    "id": "7Vbq9mqXk3W5",
    "outputId": "6bc4f986-30e2-4953-fc78-80b80982ba47"
   },
   "outputs": [
    {
     "data": {
      "text/html": [
       "<div>\n",
       "<style scoped>\n",
       "    .dataframe tbody tr th:only-of-type {\n",
       "        vertical-align: middle;\n",
       "    }\n",
       "\n",
       "    .dataframe tbody tr th {\n",
       "        vertical-align: top;\n",
       "    }\n",
       "\n",
       "    .dataframe thead th {\n",
       "        text-align: right;\n",
       "    }\n",
       "</style>\n",
       "<table border=\"1\" class=\"dataframe\">\n",
       "  <thead>\n",
       "    <tr style=\"text-align: right;\">\n",
       "      <th></th>\n",
       "      <th>sampleID</th>\n",
       "      <th>CLASS</th>\n",
       "      <th>SEX</th>\n",
       "      <th>RND</th>\n",
       "    </tr>\n",
       "  </thead>\n",
       "  <tbody>\n",
       "    <tr>\n",
       "      <th>0</th>\n",
       "      <td>SEQC_NB001</td>\n",
       "      <td>0</td>\n",
       "      <td>1</td>\n",
       "      <td>1</td>\n",
       "    </tr>\n",
       "    <tr>\n",
       "      <th>1</th>\n",
       "      <td>SEQC_NB003</td>\n",
       "      <td>0</td>\n",
       "      <td>0</td>\n",
       "      <td>0</td>\n",
       "    </tr>\n",
       "    <tr>\n",
       "      <th>2</th>\n",
       "      <td>SEQC_NB005</td>\n",
       "      <td>0</td>\n",
       "      <td>0</td>\n",
       "      <td>1</td>\n",
       "    </tr>\n",
       "    <tr>\n",
       "      <th>3</th>\n",
       "      <td>SEQC_NB011</td>\n",
       "      <td>1</td>\n",
       "      <td>1</td>\n",
       "      <td>1</td>\n",
       "    </tr>\n",
       "    <tr>\n",
       "      <th>4</th>\n",
       "      <td>SEQC_NB013</td>\n",
       "      <td>0</td>\n",
       "      <td>1</td>\n",
       "      <td>1</td>\n",
       "    </tr>\n",
       "  </tbody>\n",
       "</table>\n",
       "</div>"
      ],
      "text/plain": [
       "     sampleID  CLASS  SEX  RND\n",
       "0  SEQC_NB001      0    1    1\n",
       "1  SEQC_NB003      0    0    0\n",
       "2  SEQC_NB005      0    0    1\n",
       "3  SEQC_NB011      1    1    1\n",
       "4  SEQC_NB013      0    1    1"
      ]
     },
     "execution_count": 12,
     "metadata": {},
     "output_type": "execute_result"
    }
   ],
   "source": [
    "labs_tr = pd.read_csv(LABS_TR, sep = \"\\t\")\n",
    "labs_ts = pd.read_csv(LABS_TS, sep = \"\\t\")\n",
    "labs_tr.head()"
   ]
  },
  {
   "cell_type": "markdown",
   "metadata": {
    "colab_type": "text",
    "id": "Bw2huNKIk3W8"
   },
   "source": [
    "We have to fit one model for each label type, so we need to select one column at a time. We start with CLASS, in principle we could consider looping over the columns of interest. In this case no need to remove the first column, since we are using one column at a time."
   ]
  },
  {
   "cell_type": "code",
   "execution_count": 13,
   "metadata": {
    "colab": {},
    "colab_type": "code",
    "id": "pyTfzujJk3W9",
    "outputId": "cd7cf62a-c5b1-491a-853e-631b5cc9a4d2"
   },
   "outputs": [
    {
     "data": {
      "text/html": [
       "<div>\n",
       "<style scoped>\n",
       "    .dataframe tbody tr th:only-of-type {\n",
       "        vertical-align: middle;\n",
       "    }\n",
       "\n",
       "    .dataframe tbody tr th {\n",
       "        vertical-align: top;\n",
       "    }\n",
       "\n",
       "    .dataframe thead th {\n",
       "        text-align: right;\n",
       "    }\n",
       "</style>\n",
       "<table border=\"1\" class=\"dataframe\">\n",
       "  <thead>\n",
       "    <tr style=\"text-align: right;\">\n",
       "      <th></th>\n",
       "      <th>CLASS</th>\n",
       "    </tr>\n",
       "  </thead>\n",
       "  <tbody>\n",
       "    <tr>\n",
       "      <th>0</th>\n",
       "      <td>0</td>\n",
       "    </tr>\n",
       "    <tr>\n",
       "      <th>1</th>\n",
       "      <td>0</td>\n",
       "    </tr>\n",
       "    <tr>\n",
       "      <th>2</th>\n",
       "      <td>0</td>\n",
       "    </tr>\n",
       "    <tr>\n",
       "      <th>3</th>\n",
       "      <td>1</td>\n",
       "    </tr>\n",
       "    <tr>\n",
       "      <th>4</th>\n",
       "      <td>0</td>\n",
       "    </tr>\n",
       "  </tbody>\n",
       "</table>\n",
       "</div>"
      ],
      "text/plain": [
       "   CLASS\n",
       "0      0\n",
       "1      0\n",
       "2      0\n",
       "3      1\n",
       "4      0"
      ]
     },
     "execution_count": 13,
     "metadata": {},
     "output_type": "execute_result"
    }
   ],
   "source": [
    "class_lab_tr = labs_tr[['CLASS']]\n",
    "class_lab_ts = labs_ts[['CLASS']]\n",
    "## give a look at one of the two\n",
    "class_lab_tr.head()"
   ]
  },
  {
   "cell_type": "markdown",
   "metadata": {
    "colab_type": "text",
    "id": "7HSRblhv3RJY"
   },
   "source": [
    "For the remaining part of this hands-on, we need the data and labels to be stored in Numpy arrays:"
   ]
  },
  {
   "cell_type": "code",
   "execution_count": 14,
   "metadata": {
    "colab": {},
    "colab_type": "code",
    "id": "6RAvCkTE3bns"
   },
   "outputs": [],
   "source": [
    "x_tr = data_tr.values\n",
    "x_ts = data_ts.values\n",
    "\n",
    "y_tr = class_lab_tr.values.ravel()\n",
    "y_ts = class_lab_ts.values.ravel()"
   ]
  },
  {
   "cell_type": "markdown",
   "metadata": {
    "colab_type": "text",
    "id": "PoeFheJ9p9wG"
   },
   "source": [
    "\n",
    "\n",
    "---\n",
    "\n",
    "\n",
    "*Naming conventions: in the machine learning world, usually `x` is the data and `y` the target variable (the labels). *\n",
    "\n",
    "---\n",
    "\n"
   ]
  },
  {
   "cell_type": "markdown",
   "metadata": {
    "colab_type": "text",
    "id": "kqmSqRd23lCS"
   },
   "source": [
    "When coding, it is a good practice to have a peek at the resulting variables, to be sure everything is OK: i.e., is that variable like it is supposed to be? Did I accidentally throw away a feature column?\n",
    "\n",
    "This can avoid lots of problems later on!"
   ]
  },
  {
   "cell_type": "code",
   "execution_count": 15,
   "metadata": {
    "colab": {},
    "colab_type": "code",
    "id": "XYs3b6JJ3qrn"
   },
   "outputs": [
    {
     "data": {
      "text/plain": [
       "array([[ 9.29, 18.82, 21.17, ...,  0.  ,  0.  ,  0.  ],\n",
       "       [ 9.25, 20.25, 22.44, ...,  0.  ,  0.  ,  0.  ],\n",
       "       [ 8.99, 20.09, 22.09, ...,  0.  ,  0.  ,  0.  ],\n",
       "       ...,\n",
       "       [ 8.47, 20.75, 20.08, ...,  0.  ,  0.  ,  0.  ],\n",
       "       [ 8.58, 20.57, 20.67, ...,  0.  ,  0.  ,  0.  ],\n",
       "       [ 8.62, 20.13, 21.04, ...,  0.  ,  0.  ,  0.  ]])"
      ]
     },
     "execution_count": 15,
     "metadata": {},
     "output_type": "execute_result"
    }
   ],
   "source": [
    "x_tr"
   ]
  },
  {
   "cell_type": "markdown",
   "metadata": {
    "colab_type": "text",
    "id": "-VrsQZKO37wt"
   },
   "source": [
    "Let's go back to the sample labels:"
   ]
  },
  {
   "cell_type": "code",
   "execution_count": 16,
   "metadata": {
    "colab": {},
    "colab_type": "code",
    "id": "iwI8uSvC4BbC"
   },
   "outputs": [
    {
     "data": {
      "text/plain": [
       "array([0, 0, 0, 1, 0, 1, 1, 1, 1, 1, 1, 1, 1, 1, 1, 1, 1, 1, 1, 1, 1, 1,\n",
       "       1, 1, 1, 1, 0, 1, 1, 1, 1, 1, 1, 1, 1, 0, 1, 1, 1, 1, 0, 1, 1, 1,\n",
       "       1, 0, 1, 1, 1, 1, 1, 1, 1, 1, 0, 1, 1, 1, 0, 0, 1, 1, 1, 1, 1, 1,\n",
       "       1, 1, 1, 1, 1, 1, 1, 0, 0, 0, 0, 0, 0, 0, 0, 1, 1, 1, 1, 1, 0, 0,\n",
       "       1, 1, 1, 1, 0, 1, 1, 1, 0, 0, 0, 1, 0, 0, 0, 0, 0, 0, 1, 1, 0, 1,\n",
       "       0, 1, 1, 1, 0, 0, 0, 0, 0, 0, 0, 0, 0, 1, 1, 0, 0, 1, 1, 1, 1, 0,\n",
       "       1, 1, 1, 1])"
      ]
     },
     "execution_count": 16,
     "metadata": {},
     "output_type": "execute_result"
    }
   ],
   "source": [
    "y_tr"
   ]
  },
  {
   "cell_type": "markdown",
   "metadata": {
    "colab_type": "text",
    "id": "f99gjxxW3yMs"
   },
   "source": [
    "---\n",
    "\n",
    "### Quick recap\n",
    "\n",
    "- class_lab_tr = 0 indicates **unfavorable** neuroblastoma samples (**bad** outcome)\n",
    "- class_lab_tr = 1 indicates **favorable** neuroblastoma samples (**good** outcome)\n",
    "\n",
    "---"
   ]
  },
  {
   "cell_type": "markdown",
   "metadata": {},
   "source": [
    "# Data preprocessing"
   ]
  },
  {
   "cell_type": "markdown",
   "metadata": {},
   "source": [
    "From the lecture we know that the downstream analysis can benefit from data preprocessing, i.e., rescaling or standardizing data values."
   ]
  },
  {
   "cell_type": "markdown",
   "metadata": {},
   "source": [
    "In Scikit learn you can use `MinMaxScaler` or `StandardScaler` in the `preprocessing` submodule. Here is an example using the `MinMaxScaler`:"
   ]
  },
  {
   "cell_type": "code",
   "execution_count": 17,
   "metadata": {},
   "outputs": [],
   "source": [
    "from sklearn.preprocessing import MinMaxScaler\n",
    "## first you need to create a \"scaler\" object\n",
    "scaler = MinMaxScaler(feature_range=(-1,1))\n",
    "## then you actually scale data by fitting the scaler object on the data\n",
    "scaler.fit(x_tr)\n",
    "x_tr = scaler.transform(x_tr)\n",
    "x_ts = scaler.transform(x_ts)"
   ]
  },
  {
   "cell_type": "markdown",
   "metadata": {},
   "source": [
    "Note how we transformed the test set: we computed the scaling parameters on the training set and applied them to the test set. In this way, we did not use any information in the test set to standardize it."
   ]
  },
  {
   "cell_type": "markdown",
   "metadata": {
    "colab_type": "text",
    "id": "gDUP1kW8ou4-"
   },
   "source": [
    "# Principal Component Analysis"
   ]
  },
  {
   "cell_type": "markdown",
   "metadata": {
    "colab_type": "text",
    "id": "yrQII8Zm4SQ-"
   },
   "source": [
    "Principal Component Analysis (PCA) introduces a lower-dimensional representation of the dataset. It finds a sequence of linear combination of the variables (called the _principal components_) that explain the maximum variance and summarize the most information in the data and are mutually uncorrelated."
   ]
  },
  {
   "cell_type": "markdown",
   "metadata": {
    "colab_type": "text",
    "id": "LrgsMWEHoyzd"
   },
   "source": [
    "Let's perform an **unsupervised learning** task on our data set \"as is\" by decomposing it in its Principal Components.\n",
    "\n",
    "In scikit-learn, we can use the module PCA:"
   ]
  },
  {
   "cell_type": "code",
   "execution_count": 18,
   "metadata": {
    "colab": {},
    "colab_type": "code",
    "id": "pEQSdHYi5F4k"
   },
   "outputs": [],
   "source": [
    "from sklearn.decomposition import PCA\n",
    "pca = PCA(n_components=2)"
   ]
  },
  {
   "cell_type": "markdown",
   "metadata": {
    "colab_type": "text",
    "id": "_P4v7UyA5I_Z"
   },
   "source": [
    "So far we have a PCA _object_ but no transformation yet.\n",
    "\n",
    "To actually transform the data, we'll have to _fit_ the PCA object on the training data, at the same time _transforming_ them in the Principal Component space:"
   ]
  },
  {
   "cell_type": "code",
   "execution_count": 19,
   "metadata": {
    "colab": {},
    "colab_type": "code",
    "id": "8EOU3LbC5bUP"
   },
   "outputs": [],
   "source": [
    "z_tr = pca.fit_transform(x_tr)"
   ]
  },
  {
   "cell_type": "code",
   "execution_count": 20,
   "metadata": {},
   "outputs": [],
   "source": [
    "pca.fit(x_tr)\n",
    "z_tr = pca.transform(x_tr)"
   ]
  },
  {
   "cell_type": "code",
   "execution_count": 21,
   "metadata": {},
   "outputs": [
    {
     "data": {
      "text/plain": [
       "(136, 2)"
      ]
     },
     "execution_count": 21,
     "metadata": {},
     "output_type": "execute_result"
    }
   ],
   "source": [
    "z_tr.shape"
   ]
  },
  {
   "cell_type": "markdown",
   "metadata": {
    "colab_type": "text",
    "id": "GSURQjcg6ERt"
   },
   "source": [
    "Let's have a look at the _variance ratio_, i.e. the percentage of the variance explained by each component:"
   ]
  },
  {
   "cell_type": "code",
   "execution_count": 22,
   "metadata": {
    "colab": {},
    "colab_type": "code",
    "id": "Cma7FaOd6F1M"
   },
   "outputs": [
    {
     "name": "stdout",
     "output_type": "stream",
     "text": [
      "[0.08194369 0.0433671 ]\n"
     ]
    }
   ],
   "source": [
    "print(pca.explained_variance_ratio_)"
   ]
  },
  {
   "cell_type": "markdown",
   "metadata": {
    "colab_type": "text",
    "id": "gf_TACYP6JXk"
   },
   "source": [
    "_What can you understand from these variance percentages? Could this task be \"predictable\" by some sort of model?_"
   ]
  },
  {
   "cell_type": "markdown",
   "metadata": {
    "colab_type": "text",
    "id": "4oM7HM9d6UL6"
   },
   "source": [
    "Is it always convenient to visualize the first two principal components in a scatterplot, in order to get a first assessment of the goodness of the decomposition.\n",
    "\n",
    "We will color the points in the plot according to our sample labels."
   ]
  },
  {
   "cell_type": "code",
   "execution_count": 23,
   "metadata": {
    "colab": {},
    "colab_type": "code",
    "id": "o8Ktj-fK6WWo"
   },
   "outputs": [
    {
     "data": {
      "image/png": "[encoded data removed]",
      "text/plain": [
       "<Figure size 432x288 with 1 Axes>"
      ]
     },
     "metadata": {},
     "output_type": "display_data"
    }
   ],
   "source": [
    "f = plt.figure()\n",
    "plt.scatter(z_tr[y_tr == 0, 0], z_tr[y_tr == 0, 1], color=\"r\")\n",
    "plt.scatter(z_tr[y_tr == 1, 0], z_tr[y_tr == 1, 1], color=\"b\")\n",
    "plt.title(\"PCA of Train data\")\n",
    "plt.xlabel(\"PC1\")\n",
    "plt.ylabel(\"PC2\")\n",
    "plt.show()\n",
    "f.savefig(\"PCA_train.pdf\")"
   ]
  },
  {
   "cell_type": "markdown",
   "metadata": {
    "colab_type": "text",
    "id": "320ZkI6y6dlJ"
   },
   "source": [
    "In a PCA plot, it is usually more informative to print also the explained variances (e.g., in the axis labels):"
   ]
  },
  {
   "cell_type": "code",
   "execution_count": 24,
   "metadata": {
    "colab": {},
    "colab_type": "code",
    "id": "Q10HYmBr6fKa"
   },
   "outputs": [
    {
     "data": {
      "image/png": "[encoded data removed]",
      "text/plain": [
       "<Figure size 432x288 with 1 Axes>"
      ]
     },
     "metadata": {},
     "output_type": "display_data"
    }
   ],
   "source": [
    "vars = pca.explained_variance_ratio_\n",
    "f = plt.figure()\n",
    "plt.scatter(z_tr[y_tr == 0, 0], z_tr[y_tr == 0, 1], color=\"r\")\n",
    "plt.scatter(z_tr[y_tr == 1, 0], z_tr[y_tr == 1, 1], color=\"b\")\n",
    "plt.title(\"PCA of Train data\")\n",
    "plt.xlabel(\"PC1 (%.2f%%)\" % (100*vars[0]))\n",
    "plt.ylabel(\"PC2 (%.2f%%)\" % (100*vars[1]))\n",
    "plt.show()\n",
    "f.savefig(\"PCA_train_variance.pdf\")"
   ]
  },
  {
   "cell_type": "markdown",
   "metadata": {
    "colab_type": "text",
    "id": "1GHx_kFZ6k5T"
   },
   "source": [
    "_Now apply the transformation to the test data, plot it, and save it as PDF._"
   ]
  },
  {
   "cell_type": "code",
   "execution_count": 25,
   "metadata": {},
   "outputs": [],
   "source": [
    "## exercise here"
   ]
  },
  {
   "cell_type": "markdown",
   "metadata": {
    "colab_type": "text",
    "id": "FErPMN8F6sb9"
   },
   "source": [
    "# Supervised Learning"
   ]
  },
  {
   "cell_type": "markdown",
   "metadata": {
    "colab_type": "text",
    "id": "T7xRxdjO6vTY"
   },
   "source": [
    "## k-NN classifier"
   ]
  },
  {
   "cell_type": "markdown",
   "metadata": {
    "colab_type": "text",
    "id": "LnHfIehl62Js"
   },
   "source": [
    "Based on the PCA we built on our data, we decide to try some supervised learning on them.\n",
    "\n",
    "Scikit-learn provides you access to several models via a very convenient _fit_ and _predict_ interface.\n",
    "\n",
    "For example, let's fit a **k-NN** model on the whole training data and then use it to predict the labels of the test data."
   ]
  },
  {
   "cell_type": "code",
   "execution_count": 26,
   "metadata": {
    "colab": {},
    "colab_type": "code",
    "id": "6P24VUwQk3XG"
   },
   "outputs": [],
   "source": [
    "knn = neighbors.KNeighborsClassifier(n_neighbors=10)"
   ]
  },
  {
   "cell_type": "code",
   "execution_count": 27,
   "metadata": {
    "colab": {},
    "colab_type": "code",
    "id": "Cg8TpDATk3XI",
    "outputId": "e9658389-474c-4bf5-f196-11d4518311b7"
   },
   "outputs": [
    {
     "data": {
      "text/plain": [
       "KNeighborsClassifier(algorithm='auto', leaf_size=30, metric='minkowski',\n",
       "           metric_params=None, n_jobs=None, n_neighbors=10, p=2,\n",
       "           weights='uniform')"
      ]
     },
     "execution_count": 27,
     "metadata": {},
     "output_type": "execute_result"
    }
   ],
   "source": [
    "knn.fit(x_tr, y_tr)"
   ]
  },
  {
   "cell_type": "code",
   "execution_count": 28,
   "metadata": {
    "colab": {},
    "colab_type": "code",
    "id": "B5pHIVW2k3XM"
   },
   "outputs": [],
   "source": [
    "y_pred_knn = knn.predict(x_ts) # predict labels on test data"
   ]
  },
  {
   "cell_type": "markdown",
   "metadata": {
    "colab_type": "text",
    "id": "Crr_2DwX7f1Z"
   },
   "source": [
    "_In general, a classifier has **parameters** that need to be tuned. Default choices are not good in all situations._\n",
    "\n",
    "_For example, in k-NN the main parameter is the **number of neighbors** used in the nearest neighbors algorithm._\n",
    "\n",
    "_More on this in the next lecture!_"
   ]
  },
  {
   "cell_type": "markdown",
   "metadata": {
    "colab_type": "text",
    "id": "aBsDZNnXk3XP"
   },
   "source": [
    "To evaluate the predictions we need some kind of metrics. \n",
    "\n",
    "Exercise: extract confusion matrix and try calculate metrics by hand."
   ]
  },
  {
   "cell_type": "markdown",
   "metadata": {
    "colab_type": "text",
    "id": "L88ilJJG-Cnf"
   },
   "source": [
    "### Recap: confusion matrix\n",
    "\n",
    "In this example, the first row is class 0, so the confusion matrix will look like:\n",
    "\n",
    "|      |  |  Predicted  |    |\n",
    "|------|-----------|----|----|\n",
    "|      |           | 0 | 1  |\n",
    "| True | 0        | TN | FP |\n",
    "|      | 1         | FN | TP |\n"
   ]
  },
  {
   "cell_type": "code",
   "execution_count": 29,
   "metadata": {
    "colab": {},
    "colab_type": "code",
    "id": "JISD2EVQ9Q9Z"
   },
   "outputs": [
    {
     "data": {
      "text/plain": [
       "array([[27, 19],\n",
       "       [ 0, 90]])"
      ]
     },
     "execution_count": 29,
     "metadata": {},
     "output_type": "execute_result"
    }
   ],
   "source": [
    "from sklearn.metrics import confusion_matrix\n",
    "conf = confusion_matrix(y_ts, y_pred_knn)\n",
    "conf"
   ]
  },
  {
   "cell_type": "markdown",
   "metadata": {
    "colab_type": "text",
    "id": "Kh9MqHB5cC43"
   },
   "source": [
    "The total number of class 0 test samples (AN = All Negatives) should be equal to the sum of the first row of the confusion matrix, i.e., TN + FP:"
   ]
  },
  {
   "cell_type": "code",
   "execution_count": 30,
   "metadata": {
    "colab": {},
    "colab_type": "code",
    "id": "pZVN8GKKdOhy"
   },
   "outputs": [
    {
     "data": {
      "text/plain": [
       "46"
      ]
     },
     "execution_count": 30,
     "metadata": {},
     "output_type": "execute_result"
    }
   ],
   "source": [
    "np.sum(y_ts==0) # total number of \"class 0\" samples in the test set"
   ]
  },
  {
   "cell_type": "markdown",
   "metadata": {
    "colab_type": "text",
    "id": "SoBqoaTGcDVy"
   },
   "source": [
    "Similarly for class 1, i.e., AP = All Positives = TP + FN:"
   ]
  },
  {
   "cell_type": "code",
   "execution_count": 31,
   "metadata": {
    "colab": {},
    "colab_type": "code",
    "id": "1PVj7JbxdVk0"
   },
   "outputs": [
    {
     "data": {
      "text/plain": [
       "90"
      ]
     },
     "execution_count": 31,
     "metadata": {},
     "output_type": "execute_result"
    }
   ],
   "source": [
    "np.sum(y_ts==1) # total number of \"class 1\" samples in the test set"
   ]
  },
  {
   "cell_type": "markdown",
   "metadata": {
    "colab_type": "text",
    "id": "kva3wkz5ddap"
   },
   "source": [
    "Compute the Accuracy, remembering/using the formula: \n",
    "\n",
    "ACC = (TN + TP) / (TN + TP + FN + FP)"
   ]
  },
  {
   "cell_type": "markdown",
   "metadata": {
    "colab_type": "text",
    "id": "pPjun--zd-nB"
   },
   "source": [
    "TN and TP are on the main diagonal of our conf Numpy array. The denominator is equivalent to the overall sample size."
   ]
  },
  {
   "cell_type": "code",
   "execution_count": 32,
   "metadata": {
    "colab": {},
    "colab_type": "code",
    "id": "-1-40TyQeAIt"
   },
   "outputs": [
    {
     "data": {
      "text/plain": [
       "0.8602941176470589"
      ]
     },
     "execution_count": 32,
     "metadata": {},
     "output_type": "execute_result"
    }
   ],
   "source": [
    "(conf[0,0] + conf[1,1])/y_ts.shape[0] # y_ts.shape[0] is the sample size of the test set"
   ]
  },
  {
   "cell_type": "markdown",
   "metadata": {
    "colab_type": "text",
    "id": "--3Q48hBfLoh"
   },
   "source": [
    "**Hint** : For clearer coding, you may want to assign variables to the elements of the confusion matrix. Here is an idea:"
   ]
  },
  {
   "cell_type": "code",
   "execution_count": 33,
   "metadata": {
    "colab": {},
    "colab_type": "code",
    "id": "q0emRGAvfWi4"
   },
   "outputs": [
    {
     "name": "stdout",
     "output_type": "stream",
     "text": [
      "0.8602941176470589\n"
     ]
    }
   ],
   "source": [
    "tp = conf[1,1]\n",
    "tn = conf[0,0]\n",
    "fp = conf[0,1]\n",
    "fn = conf[1,0]\n",
    "\n",
    "acc = (tn + tp) / (tn + tp + fn + fp)\n",
    "print(acc)"
   ]
  },
  {
   "cell_type": "markdown",
   "metadata": {
    "colab_type": "text",
    "id": "iqD0_lXneEJM"
   },
   "source": [
    "Now compute the Sensitivity.\n",
    "\n",
    "Remember the formula:\n",
    "\n",
    "SENS = TP / (TP + FN)"
   ]
  },
  {
   "cell_type": "code",
   "execution_count": 34,
   "metadata": {
    "colab": {},
    "colab_type": "code",
    "id": "a9JlR-LNe5ZI"
   },
   "outputs": [
    {
     "data": {
      "text/plain": [
       "1.0"
      ]
     },
     "execution_count": 34,
     "metadata": {},
     "output_type": "execute_result"
    }
   ],
   "source": [
    "conf[1,1] / (conf[1,1] + conf[1,0])"
   ]
  },
  {
   "cell_type": "markdown",
   "metadata": {
    "colab_type": "text",
    "id": "jcKt3dqwes-k"
   },
   "source": [
    "Computing metrics by hand is good, but what about a quicker option?"
   ]
  },
  {
   "cell_type": "markdown",
   "metadata": {
    "colab_type": "text",
    "id": "opG9Fe6EkI_b"
   },
   "source": [
    "As seen in the lectures, Scikit Learn offers a handy broad range of functions to evaluate your classifier through its submodule `metrics`.\n",
    "\n",
    "Let's compute the accuracy using the scikit-learn built-in function `accuracy_score`, taking as input the predicted labels (`y_pred_knn`) and the true labels (`y_ts`):\n",
    "\n",
    "`accuracy_score(y_pred_knn, y_ts)`"
   ]
  },
  {
   "cell_type": "code",
   "execution_count": 35,
   "metadata": {
    "colab": {},
    "colab_type": "code",
    "id": "3KeLJcCbkSo6"
   },
   "outputs": [
    {
     "data": {
      "text/plain": [
       "0.8602941176470589"
      ]
     },
     "execution_count": 35,
     "metadata": {},
     "output_type": "execute_result"
    }
   ],
   "source": [
    "from sklearn.metrics import accuracy_score\n",
    "accuracy_score(y_ts, y_pred_knn)"
   ]
  },
  {
   "cell_type": "markdown",
   "metadata": {
    "colab_type": "text",
    "id": "r7owZk6BmTVX"
   },
   "source": [
    "What about Sensitivity? The built-in function is called `recall_score`, as Recall is an alternate name for Sensitivity. Again, its input are the predicted and the true labels.\n"
   ]
  },
  {
   "cell_type": "code",
   "execution_count": 36,
   "metadata": {
    "colab": {},
    "colab_type": "code",
    "id": "MgfhssjZmsg3"
   },
   "outputs": [
    {
     "data": {
      "text/plain": [
       "1.0"
      ]
     },
     "execution_count": 36,
     "metadata": {},
     "output_type": "execute_result"
    }
   ],
   "source": [
    "from sklearn.metrics import recall_score\n",
    "recall_score(y_ts, y_pred_knn)"
   ]
  },
  {
   "cell_type": "markdown",
   "metadata": {
    "colab_type": "text",
    "id": "tX7AxXn4mxs_"
   },
   "source": [
    "Hint: if you plan to use more than a function from the `metrics` submodule, you may want to import the entire submodule. Then you would access its functions by prepending `metrics.` to the function name, like this:"
   ]
  },
  {
   "cell_type": "code",
   "execution_count": 37,
   "metadata": {
    "colab": {},
    "colab_type": "code",
    "id": "AKiUXIkPm-N3"
   },
   "outputs": [
    {
     "name": "stdout",
     "output_type": "stream",
     "text": [
      "0.8602941176470589\n",
      "1.0\n"
     ]
    }
   ],
   "source": [
    "from sklearn import metrics\n",
    "print(metrics.accuracy_score(y_ts, y_pred_knn))\n",
    "print(metrics.recall_score(y_ts, y_pred_knn))"
   ]
  },
  {
   "cell_type": "markdown",
   "metadata": {
    "colab_type": "text",
    "id": "8ysD26nCnTSg"
   },
   "source": [
    "Scikit-learn also provides a neat `metrics.classification_report` function that outputs a few metrics stratified by class:"
   ]
  },
  {
   "cell_type": "code",
   "execution_count": 38,
   "metadata": {
    "colab": {},
    "colab_type": "code",
    "id": "HXgvIJM2k3XQ",
    "outputId": "0d2d0773-a292-40cb-d8e7-df6b6ee29ff2"
   },
   "outputs": [
    {
     "name": "stdout",
     "output_type": "stream",
     "text": [
      "              precision    recall  f1-score   support\n",
      "\n",
      "           0       1.00      0.59      0.74        46\n",
      "           1       0.83      1.00      0.90        90\n",
      "\n",
      "   micro avg       0.86      0.86      0.86       136\n",
      "   macro avg       0.91      0.79      0.82       136\n",
      "weighted avg       0.88      0.86      0.85       136\n",
      "\n"
     ]
    }
   ],
   "source": [
    "from sklearn import metrics\n",
    "print(metrics.classification_report(y_ts, y_pred_knn))"
   ]
  },
  {
   "cell_type": "markdown",
   "metadata": {
    "colab_type": "text",
    "id": "mqAX0k6UoeZh"
   },
   "source": [
    "Let's consider the Matthews Correlation Coefficient (MCC):"
   ]
  },
  {
   "cell_type": "markdown",
   "metadata": {
    "colab_type": "text",
    "id": "Dl82PZ0Zn5lN"
   },
   "source": [
    "![MCC formula](https://www.researchgate.net/profile/Pablo_Moscato/publication/223966631/figure/fig1/AS:305103086080001@1449753652505/Calculation-of-Matthews-Correlation-Coefficient-MCC-A-Contingency-matrix_W640.jpg)"
   ]
  },
  {
   "cell_type": "markdown",
   "metadata": {
    "colab_type": "text",
    "id": "4v0aWAAJrex-"
   },
   "source": [
    "*Q: Do you remember the main features of MCC?*"
   ]
  },
  {
   "cell_type": "markdown",
   "metadata": {
    "colab_type": "text",
    "id": "FDN2f1ZAoty0"
   },
   "source": [
    "In scikit-learn it is computed by the `metrics.matthews_corrcoef` function."
   ]
  },
  {
   "cell_type": "markdown",
   "metadata": {
    "colab_type": "text",
    "id": "ynxyEsfFk3XV"
   },
   "source": [
    "If we get the MCC for our kNN predictions, we can observe that it is in line with our *a priori* knowledge of the dataset (from the article):"
   ]
  },
  {
   "cell_type": "code",
   "execution_count": 39,
   "metadata": {
    "colab": {},
    "colab_type": "code",
    "id": "OuoRfictk3XW",
    "outputId": "9119acba-9d18-4076-eb3c-8346ba420579"
   },
   "outputs": [
    {
     "name": "stdout",
     "output_type": "stream",
     "text": [
      "0.6961630553262051\n"
     ]
    }
   ],
   "source": [
    "print(metrics.matthews_corrcoef(y_ts, y_pred_knn))"
   ]
  },
  {
   "cell_type": "markdown",
   "metadata": {
    "colab_type": "text",
    "id": "HtPbufFSpSxL"
   },
   "source": [
    "*Compare the metrics that you computed so far. What can you say about this classification task? Does the classifier learn something?*"
   ]
  },
  {
   "cell_type": "markdown",
   "metadata": {
    "colab_type": "text",
    "id": "-d0e4tAbs7tP"
   },
   "source": [
    "The metrics may look good (e.g., accuracy around 0.8, MCC above 0.6) but...\n",
    "\n",
    "... how do you know if this model performs similarly well on unseen data?\n",
    "\n",
    "In other words, does this model *generalize* beyond its training set?\n",
    "\n",
    "This is why *data partitioning* techniques are used."
   ]
  },
  {
   "cell_type": "markdown",
   "metadata": {
    "colab_type": "text",
    "id": "13LEke6Js720"
   },
   "source": [
    "## Data partitioning"
   ]
  },
  {
   "cell_type": "markdown",
   "metadata": {
    "colab_type": "text",
    "id": "-IIhs_0Exo1B"
   },
   "source": [
    "### Hold-out strategy\n",
    "\n",
    "The idea behind data partitioning is to split your original data set into a **train** portion (for developing your machine learning model) and a **test** portion (for evaluating the performance of the trained model).\n",
    "\n",
    "The simplest and most straightforward way to partition your data set is to randomly split it in two groups (*hold-out strategy*).\n",
    "\n",
    "\n",
    "---\n",
    "\n",
    "\n",
    "\"But we already have a dataset split into train and test!\", you may object.\n",
    "\n",
    "Well, the data was previously split into balanced train and test sets of 136 samples each. This is somewhat different from the 80/20 train/test split we mentioned in the lecture. In fact, this specific data split was created ad-hoc during the article preparation to ensure balance in the various clinical characteristics of the neuroblastoma samples represented (e.g. MYCN amplification status, INSS tumor staging, … Full details are reported in the article).\n",
    "\n",
    "For the sake of this tutorial, we will further split the neuroblastoma train set into two subsets.\n",
    "\n",
    "\n",
    "---\n",
    "\n",
    "\n",
    "You achieve this using scikit-learn's function `train_test_split`, in the `model_selection` submodule.\n",
    "\n",
    "For example, let's split the data (x_tr) into 80% train and 20% test (note the argument `test_size=0.2`)"
   ]
  },
  {
   "cell_type": "code",
   "execution_count": 40,
   "metadata": {
    "colab": {},
    "colab_type": "code",
    "id": "tqbLHGVP2cAH"
   },
   "outputs": [],
   "source": [
    "from sklearn.model_selection import train_test_split\n",
    "X_train, X_test, y_train, y_test = train_test_split(x_tr, y_tr, test_size=0.2, random_state=1)"
   ]
  },
  {
   "cell_type": "markdown",
   "metadata": {
    "colab_type": "text",
    "id": "TOKwQzhK8tVY"
   },
   "source": [
    "\n",
    "\n",
    "---\n",
    "\n",
    "What is the random_state?\n",
    "\n",
    "Whenever randomness is involved in a computer program, we need to rely on some sort of workaround because computers follow their instructions blindly and they are therefore completely predictable.\n",
    "\n",
    "One approach relies on *Pseudo-Random Number Generators* (PRNGs). \n",
    "\n",
    "PNRGs are algorithms that use mathematical formulas or precalculated tables to produce sequences of numbers that appear random. \n",
    "\n",
    "PNRGs are initialized by a *seed* (an integer), so that *the same seed yields the same sequence of pseudo-random numbers*. This is useful for reproduciblity.\n",
    "\n",
    "\n",
    "---\n",
    "\n"
   ]
  },
  {
   "cell_type": "markdown",
   "metadata": {
    "colab_type": "text",
    "id": "le9GlyN3xo9x"
   },
   "source": [
    "*Now, retrain a kNN model on X_train and evaluate its performance on X_test. Try using different random states for data splitting.*"
   ]
  },
  {
   "cell_type": "code",
   "execution_count": 41,
   "metadata": {
    "colab": {},
    "colab_type": "code",
    "id": "n12boA3k3Neo"
   },
   "outputs": [
    {
     "name": "stdout",
     "output_type": "stream",
     "text": [
      "Accuracy = 0.750\n",
      "MCC = 0.538\n"
     ]
    }
   ],
   "source": [
    "from sklearn import metrics\n",
    "knn = neighbors.KNeighborsClassifier(n_neighbors=10)\n",
    "knn.fit(X_train, y_train)\n",
    "y_pred_knn = knn.predict(X_test)\n",
    "acc = metrics.accuracy_score(y_test, y_pred_knn)\n",
    "mcc = metrics.matthews_corrcoef(y_test, y_pred_knn)\n",
    "\n",
    "print(f\"Accuracy = {acc:.3f}\")\n",
    "print(f\"MCC = {mcc:.3f}\")"
   ]
  },
  {
   "cell_type": "markdown",
   "metadata": {
    "colab_type": "text",
    "id": "rqkAcvnpxpCx"
   },
   "source": [
    "### Cross-validation"
   ]
  },
  {
   "cell_type": "markdown",
   "metadata": {
    "colab_type": "text",
    "id": "NqrxSWmp8Zg5"
   },
   "source": [
    "Partitioning the dataset once in training/test is not enough. As you may have seen, the results are fairly dependent on the random seed that was used in the splitting function.\n",
    "\n",
    "Other strategies involve splitting the data in **multiple (complementary) subsets**.\n",
    "\n",
    "During the lecture we introduced the k-fold cross-validation:"
   ]
  },
  {
   "cell_type": "markdown",
   "metadata": {
    "colab_type": "text",
    "id": "jnBd81Sk35QM"
   },
   "source": [
    "![k-fold cv](https://www.researchgate.net/profile/B_Aksasse/publication/326866871/figure/fig2/AS:669601385947145@1536656819574/K-fold-cross-validation-In-addition-we-outline-an-overview-of-the-different-metrics-used_W640.jpg)"
   ]
  },
  {
   "cell_type": "markdown",
   "metadata": {
    "colab_type": "text",
    "id": "rmolsnknM8cS"
   },
   "source": [
    "Example of a 5-fold cross-validation (CV) with scikit-learn:"
   ]
  },
  {
   "cell_type": "code",
   "execution_count": 42,
   "metadata": {
    "colab": {},
    "colab_type": "code",
    "id": "551-qJzL8WKh"
   },
   "outputs": [],
   "source": [
    "from sklearn.model_selection import StratifiedKFold\n",
    "skf = StratifiedKFold(n_splits=5, shuffle=True, random_state=42)"
   ]
  },
  {
   "cell_type": "markdown",
   "metadata": {
    "colab_type": "text",
    "id": "rMmmyxp5NX4P"
   },
   "source": [
    "A \"stratified\" 5-fold CV means that the folds are made by preserving the percentage of samples for each class."
   ]
  },
  {
   "cell_type": "markdown",
   "metadata": {
    "colab_type": "text",
    "id": "H_VtvZEINnE6"
   },
   "source": [
    "To actually get the splitting indices and create the folds, we need to iterate over the `skf` object:"
   ]
  },
  {
   "cell_type": "code",
   "execution_count": 43,
   "metadata": {
    "colab": {},
    "colab_type": "code",
    "id": "-uoahY6yNcIv"
   },
   "outputs": [
    {
     "name": "stdout",
     "output_type": "stream",
     "text": [
      "### Fold 2 / 5 ###\n",
      "TRAIN size: 108\n",
      "-- class 0: 36 class 1: 72\n",
      "TEST size: 28\n",
      "-- class 0: 9 class 1: 19\n",
      "\n",
      "Model performance\n",
      "Accuracy on TEST set: 0.929\n",
      "MCC on TEST set: 0.839\n",
      "\n",
      "### Fold 3 / 5 ###\n",
      "TRAIN size: 109\n",
      "-- class 0: 36 class 1: 73\n",
      "TEST size: 27\n",
      "-- class 0: 9 class 1: 18\n",
      "\n",
      "Model performance\n",
      "Accuracy on TEST set: 0.852\n",
      "MCC on TEST set: 0.674\n",
      "\n",
      "### Fold 4 / 5 ###\n",
      "TRAIN size: 109\n",
      "-- class 0: 36 class 1: 73\n",
      "TEST size: 27\n",
      "-- class 0: 9 class 1: 18\n",
      "\n",
      "Model performance\n",
      "Accuracy on TEST set: 0.815\n",
      "MCC on TEST set: 0.567\n",
      "\n",
      "### Fold 5 / 5 ###\n",
      "TRAIN size: 109\n",
      "-- class 0: 36 class 1: 73\n",
      "TEST size: 27\n",
      "-- class 0: 9 class 1: 18\n",
      "\n",
      "Model performance\n",
      "Accuracy on TEST set: 0.815\n",
      "MCC on TEST set: 0.590\n",
      "\n",
      "### Fold 6 / 5 ###\n",
      "TRAIN size: 109\n",
      "-- class 0: 36 class 1: 73\n",
      "TEST size: 27\n",
      "-- class 0: 9 class 1: 18\n",
      "\n",
      "Model performance\n",
      "Accuracy on TEST set: 0.926\n",
      "MCC on TEST set: 0.837\n",
      "\n"
     ]
    }
   ],
   "source": [
    "## get the number of splitting operations\n",
    "N = skf.get_n_splits(x_tr, y_tr)\n",
    "\n",
    "## reinitialize a kNN classifier\n",
    "knn = neighbors.KNeighborsClassifier(n_neighbors=10)\n",
    "\n",
    "## create empty lists to store the CV metrics\n",
    "acc_list = []\n",
    "mcc_list = []\n",
    "\n",
    "## split data and iterate over the splits,\n",
    "## computing kNN accuracy & MCC on each test partition\n",
    "i = 1\n",
    "for (idx_tr, idx_ts) in skf.split(x_tr, y_tr):\n",
    "    print(f\"### Fold {i+1} / {N:d} ###\")\n",
    "    X_train, Y_train = x_tr[idx_tr], y_tr[idx_tr]\n",
    "    X_test, Y_test = x_tr[idx_ts], y_tr[idx_ts]\n",
    "    print(\"TRAIN size:\", X_train.shape[0])\n",
    "    print(\"-- class 0:\", np.sum(Y_train==0), \"class 1:\", np.sum(Y_train==1))\n",
    "    print(\"TEST size:\", X_test.shape[0])\n",
    "    print(\"-- class 0:\", np.sum(Y_test==0), \"class 1:\", np.sum(Y_test==1))\n",
    "    print()\n",
    "    print(\"Model performance\")\n",
    "    knn.fit(X_train, Y_train)\n",
    "    Y_test_pred = knn.predict(X_test)\n",
    "    acc = metrics.accuracy_score(Y_test, Y_test_pred)\n",
    "    mcc = metrics.matthews_corrcoef(Y_test, Y_test_pred)\n",
    "    print(f\"Accuracy on TEST set: {acc:.3f}\")\n",
    "    print(f\"MCC on TEST set: {mcc:.3f}\")\n",
    "    print()\n",
    "    ## append values to lists\n",
    "    acc_list.append(acc)\n",
    "    mcc_list.append(mcc)\n",
    "    \n",
    "    i = i + 1"
   ]
  },
  {
   "cell_type": "markdown",
   "metadata": {},
   "source": [
    "*Q: how are the computed metrics on the different folds?*"
   ]
  },
  {
   "cell_type": "markdown",
   "metadata": {},
   "source": [
    "To get an estimate of the predictive performance of our model, we can average over the cross-validation metrics."
   ]
  },
  {
   "cell_type": "code",
   "execution_count": 44,
   "metadata": {},
   "outputs": [
    {
     "name": "stdout",
     "output_type": "stream",
     "text": [
      "Average cross-validation accuracy: 0.867\n",
      "Average cross-validation MCC: 0.701\n"
     ]
    }
   ],
   "source": [
    "## note: we need to convert the lists to numpy arrays before computing the means\n",
    "acc_avg = np.mean(np.array(acc_list))\n",
    "mcc_avg = np.mean(np.array(mcc_list))\n",
    "\n",
    "print(f\"Average cross-validation accuracy: {acc_avg:.3f}\")\n",
    "print(f\"Average cross-validation MCC: {mcc_avg:.3f}\")"
   ]
  },
  {
   "cell_type": "markdown",
   "metadata": {},
   "source": [
    "To have an even better estimate of how the model can generalize on new data, you can repeat the CV several times. Each time you will use a different seed for generating the splits. Let's see an example with 10 iterations:"
   ]
  },
  {
   "cell_type": "code",
   "execution_count": 45,
   "metadata": {
    "colab": {},
    "colab_type": "code",
    "id": "-uoahY6yNcIv"
   },
   "outputs": [
    {
     "name": "stdout",
     "output_type": "stream",
     "text": [
      "### Iteration 1 ###\n",
      "### Iteration 2 ###\n",
      "### Iteration 3 ###\n",
      "### Iteration 4 ###\n",
      "### Iteration 5 ###\n",
      "### Iteration 6 ###\n",
      "### Iteration 7 ###\n",
      "### Iteration 8 ###\n",
      "### Iteration 9 ###\n",
      "### Iteration 10 ###\n"
     ]
    }
   ],
   "source": [
    "## how many repetitions?\n",
    "N_CV = 10\n",
    "\n",
    "## create empty lists to store the CV metrics\n",
    "acc_list = []\n",
    "mcc_list = []\n",
    "\n",
    "for i_cv in range(N_CV):\n",
    "    \n",
    "    print(f\"### Iteration {i_cv+1} ###\")\n",
    "    ## create a CV object\n",
    "    skf = StratifiedKFold(n_splits=5, shuffle=True, random_state=i_cv)\n",
    "    \n",
    "    ## reinitialize a kNN classifier\n",
    "    knn = neighbors.KNeighborsClassifier(n_neighbors=10)\n",
    "\n",
    "    ## split data and iterate over the splits,\n",
    "    ## computing kNN accuracy & MCC on each test partition\n",
    "    for i, (idx_tr, idx_ts) in enumerate(skf.split(x_tr, y_tr)):\n",
    "        X_train, Y_train = x_tr[idx_tr], y_tr[idx_tr]\n",
    "        X_test, Y_test = x_tr[idx_ts], y_tr[idx_ts]\n",
    "        knn.fit(X_train, Y_train)\n",
    "        Y_test_pred = knn.predict(X_test)\n",
    "        acc = metrics.accuracy_score(Y_test, Y_test_pred)\n",
    "        mcc = metrics.matthews_corrcoef(Y_test, Y_test_pred)\n",
    "        ## append values to lists\n",
    "        acc_list.append(acc)\n",
    "        mcc_list.append(mcc)\n"
   ]
  },
  {
   "cell_type": "markdown",
   "metadata": {},
   "source": [
    "Now recompute the average values across all rounds of cross-validation:"
   ]
  },
  {
   "cell_type": "code",
   "execution_count": 47,
   "metadata": {},
   "outputs": [
    {
     "name": "stdout",
     "output_type": "stream",
     "text": [
      "Average cross-validation accuracy: 0.854\n",
      "Average cross-validation MCC: 0.670\n"
     ]
    }
   ],
   "source": [
    "## note: we need to convert the lists to numpy arrays before computing the means\n",
    "acc_avg = np.mean(np.array(acc_list))\n",
    "mcc_avg = np.mean(np.array(mcc_list))\n",
    "\n",
    "print(f\"Average cross-validation accuracy: {acc_avg:.3f}\")\n",
    "print(f\"Average cross-validation MCC: {mcc_avg:.3f}\")"
   ]
  },
  {
   "cell_type": "markdown",
   "metadata": {},
   "source": [
    "*Average values are informative, but you also need to compute standard deviations and/or confidence intervals in order to get a complete summary of the metrics distribution across the CV rounds.*\n",
    "\n",
    "*For example, compute the standard deviations for the accuracies and MCCs (Numpy's `std` function).* "
   ]
  },
  {
   "cell_type": "markdown",
   "metadata": {},
   "source": [
    "What now? All of this was needed to have an estimate of the model performance, or in other terms an estimate of the generalization capability of the model.\n",
    "\n",
    "You can now quantify your model performance in terms of average cross-validation accuracy / MCC / etc. , also with confidence intervals or standard deviations."
   ]
  }
 ],
 "metadata": {
  "colab": {
   "collapsed_sections": [],
   "name": "practical_neuroblastoma_partI_v0.2.ipynb",
   "provenance": [],
   "version": "0.3.2"
  },
  "kernelspec": {
   "display_name": "Python 3",
   "language": "python",
   "name": "python3"
  },
  "language_info": {
   "codemirror_mode": {
    "name": "ipython",
    "version": 3
   },
   "file_extension": ".py",
   "mimetype": "text/x-python",
   "name": "python",
   "nbconvert_exporter": "python",
   "pygments_lexer": "ipython3",
   "version": "3.6.5"
  }
 },
 "nbformat": 4,
 "nbformat_minor": 1
}
